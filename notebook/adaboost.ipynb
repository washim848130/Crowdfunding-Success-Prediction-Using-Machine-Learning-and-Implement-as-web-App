{
 "cells": [
  {
   "cell_type": "code",
   "execution_count": 2,
   "id": "6ef9ac3c-2a90-413c-afa0-6377db305da0",
   "metadata": {},
   "outputs": [
    {
     "name": "stderr",
     "output_type": "stream",
     "text": [
      "C:\\Users\\Dell\\anaconda3\\Lib\\site-packages\\sklearn\\base.py:474: FutureWarning: `BaseEstimator._validate_data` is deprecated in 1.6 and will be removed in 1.7. Use `sklearn.utils.validation.validate_data` instead. This function becomes public and is part of the scikit-learn developer API.\n",
      "  warnings.warn(\n"
     ]
    },
    {
     "name": "stdout",
     "output_type": "stream",
     "text": [
      "\n",
      "AdaBoost Metrics:\n",
      "Accuracy: 92.02%\n",
      "Precision: 77.54%\n",
      "Recall: 95.42%\n",
      "F1 Score: 85.56%\n",
      "\n",
      "Model training complete. Models saved as 'adaboost_model.pkl'.\n"
     ]
    }
   ],
   "source": [
    "import pandas as pd\n",
    "import numpy as np\n",
    "from sklearn.tree import DecisionTreeClassifier\n",
    "from sklearn.ensemble import AdaBoostClassifier\n",
    "from sklearn.linear_model import LogisticRegression\n",
    "from sklearn.model_selection import train_test_split\n",
    "from sklearn.metrics import accuracy_score, precision_score, recall_score, f1_score\n",
    "import joblib\n",
    "from imblearn.under_sampling import RandomUnderSampler\n",
    "from imblearn.over_sampling import SMOTE\n",
    "\n",
    "# Load the dataset\n",
    "file_path = \"crowdfunding_dataset.csv\"  # Correct file path here\n",
    "data = pd.read_csv(file_path)\n",
    "\n",
    "# # Check dataset columns\n",
    "# print(\"Columns in dataset:\", data.columns)\n",
    "\n",
    "# # Check class distribution\n",
    "# print(\"\\nSuccess Label Counts:\\n\", data[\"success\"].value_counts())\n",
    "\n",
    "# # Ensure 'success' column is binary (0 = failed, 1 = successful)\n",
    "# if \"success\" not in data.columns:\n",
    "#     raise ValueError(\"Column 'success' not found in dataset!\")\n",
    "\n",
    "# One-hot encode categorical features\n",
    "data_encoded = pd.get_dummies(data, columns=[\"parent_category\", \"sub_category\", \"country\"], drop_first=True)\n",
    "\n",
    "# Define features and target\n",
    "X = data_encoded.drop(columns=[\"success\"])\n",
    "y = data_encoded[\"success\"]\n",
    "\n",
    "# Stratified splitting to maintain class ratio\n",
    "X_train, X_test, y_train, y_test = train_test_split(\n",
    "    X, y, test_size=0.2, random_state=42, stratify=y\n",
    ")\n",
    "\n",
    "# Handling class imbalance (choose one method)\n",
    "\n",
    "# ✅ Method 1: Undersampling (Reduce '0' class)\n",
    "# rus = RandomUnderSampler(random_state=42)\n",
    "# X_train, y_train = rus.fit_resample(X_train, y_train)\n",
    "\n",
    "# ✅ Method 2: Oversampling (Increase '1' class)\n",
    "smote = SMOTE(random_state=42)\n",
    "X_train, y_train = smote.fit_resample(X_train, y_train)\n",
    "\n",
    "# Train AdaBoost model\n",
    "ab_model = AdaBoostClassifier(n_estimators=3, random_state=42)\n",
    "ab_model.fit(X_train, y_train)\n",
    "\n",
    "\n",
    "\n",
    "# Predictions\n",
    "y_pred_ab = ab_model.predict(X_test)\n",
    "\n",
    "# Function to evaluate models\n",
    "def evaluate_model(y_true, y_pred, model_name):\n",
    "    accuracy = accuracy_score(y_true, y_pred)\n",
    "    precision = precision_score(y_true, y_pred)\n",
    "    recall = recall_score(y_true, y_pred)\n",
    "    f1 = f1_score(y_true, y_pred)\n",
    "    print(f\"\\n{model_name} Metrics:\")\n",
    "    print(f\"Accuracy: {accuracy * 100:.2f}%\")\n",
    "    print(f\"Precision: {precision * 100:.2f}%\")\n",
    "    print(f\"Recall: {recall * 100:.2f}%\")\n",
    "    print(f\"F1 Score: {f1 * 100:.2f}%\\n\")\n",
    "    return accuracy\n",
    "\n",
    "# Evaluate model\n",
    "ab_accuracy = evaluate_model(y_test, y_pred_ab, \"AdaBoost\")\n",
    "\n",
    "# Save the trained models\n",
    "joblib.dump(ab_model, \"adaboost_model.pkl\")\n",
    "\n",
    "print(\"Model training complete. Models saved as 'adaboost_model.pkl'.\")\n",
    "\n"
   ]
  },
  {
   "cell_type": "code",
   "execution_count": null,
   "id": "20ea3ead-895f-4535-a515-573901e736cd",
   "metadata": {},
   "outputs": [],
   "source": []
  }
 ],
 "metadata": {
  "kernelspec": {
   "display_name": "Python 3 (ipykernel)",
   "language": "python",
   "name": "python3"
  },
  "language_info": {
   "codemirror_mode": {
    "name": "ipython",
    "version": 3
   },
   "file_extension": ".py",
   "mimetype": "text/x-python",
   "name": "python",
   "nbconvert_exporter": "python",
   "pygments_lexer": "ipython3",
   "version": "3.12.4"
  }
 },
 "nbformat": 4,
 "nbformat_minor": 5
}
