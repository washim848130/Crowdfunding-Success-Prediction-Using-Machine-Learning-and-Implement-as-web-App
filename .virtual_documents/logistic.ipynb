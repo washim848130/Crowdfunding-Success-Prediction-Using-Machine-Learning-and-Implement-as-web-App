import pandas as pd
from sklearn.model_selection import train_test_split
from sklearn.preprocessing import StandardScaler
from sklearn.feature_selection import SelectKBest, f_classif
from sklearn.linear_model import LogisticRegression
from sklearn.metrics import accuracy_score, classification_report
import joblib


# Load the dataset
file_path = "data.csv"  # Update the path to your dataset
data = pd.read_csv(file_path)


# Data preprocessing
# Selecting relevant columns
data = data[['backers_count', 'pledged_amt', 'goal', 'state']]


# Encoding target variable ('state') as binary: 'successful' = 1, others = 0
data['state'] = data['state'].apply(lambda x: 1 if x == 'successful' else 0)



# Splitting features and target variable
X = data.drop(columns='state')
y = data['state']



# Standardizing numerical features
scaler = StandardScaler()
X_scaled = scaler.fit_transform(X)



# Splitting into training and test sets
X_train, X_test, y_train, y_test = train_test_split(X_scaled, y, test_size=0.2, random_state=42, stratify=y)



# Feature selection: Select top 2 features
selector = SelectKBest(score_func=f_classif, k=2)
X_train_reduced = selector.fit_transform(X_train, y_train)
X_test_reduced = selector.transform(X_test)


# Train the Logistic Regression model
logistic_model = LogisticRegression(random_state=42, max_iter=50, C=0.03)
logistic_model.fit(X_train_reduced, y_train)


# Predictions and evaluation
y_pred = logistic_model.predict(X_test_reduced)
accuracy = accuracy_score(y_test, y_pred)
print(f"Accuracy: {accuracy  * 100:.2f}%")
# Calculate and display precision, recall, and F1-score
print("\nClassification Report:")
print(classification_report(y_test, y_pred))




# Save the trained model
model_filename = "logistic_model_b_file.pkl"
joblib.dump(logistic_model, model_filename)
print(f"Model saved to {model_filename}")



