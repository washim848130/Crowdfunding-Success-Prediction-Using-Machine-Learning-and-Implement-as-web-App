import pandas as pd
from sklearn.model_selection import train_test_split
from sklearn.preprocessing import StandardScaler
from sklearn.feature_selection import SelectKBest, f_classif
from sklearn.linear_model import LogisticRegression
from sklearn.metrics import accuracy_score, classification_report
import joblib


# Load the dataset
file_path = "crowdfunding_dataset.csv"  # Update the path to your dataset
data = pd.read_csv(file_path)


data.shape


# Load the dataset
file_path = "data.csv"  # Update the path to your dataset
data = pd.read_csv(file_path)


data.head()


data.shape


data.info


data.info()


data.describe


data.describe()


data.tail()


data.isnull()


data.isnull().sum()


data=data.dropna()


data.isnull().sum()
